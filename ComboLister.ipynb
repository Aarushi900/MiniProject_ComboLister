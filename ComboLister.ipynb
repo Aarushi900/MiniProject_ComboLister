{
  "nbformat": 4,
  "nbformat_minor": 0,
  "metadata": {
    "colab": {
      "provenance": [],
      "authorship_tag": "ABX9TyP92LzWsykSbANq/R5dSDCs",
      "include_colab_link": true
    },
    "kernelspec": {
      "name": "python3",
      "display_name": "Python 3"
    },
    "language_info": {
      "name": "python"
    }
  },
  "cells": [
    {
      "cell_type": "markdown",
      "metadata": {
        "id": "view-in-github",
        "colab_type": "text"
      },
      "source": [
        "<a href=\"https://colab.research.google.com/github/Aarushi900/MiniProject_ComboLister/blob/main/ComboLister.ipynb\" target=\"_parent\"><img src=\"https://colab.research.google.com/assets/colab-badge.svg\" alt=\"Open In Colab\"/></a>"
      ]
    },
    {
      "cell_type": "markdown",
      "source": [
        "\n",
        "\n",
        "---\n",
        "\n",
        "# Combo Finder\n",
        "---\n",
        "Applications:\n",
        "To find different combinations of products for a given price range while online shopping\n",
        "\n",
        "Example Situation:\n",
        "Finding all the list of products whose sum-of-price is between 290 and 310.\n",
        "\n",
        "ProductList = {p1:10, p2:15, p3:20, p4:25, p5:30, p6:35, p7:50,...}"
      ],
      "metadata": {
        "id": "-7EOL5iblDGa"
      }
    },
    {
      "cell_type": "markdown",
      "source": [
        "Libraries Used"
      ],
      "metadata": {
        "id": "IjeCUi5slEge"
      }
    },
    {
      "cell_type": "code",
      "execution_count": 1,
      "metadata": {
        "id": "ahB73eewlBvm"
      },
      "outputs": [],
      "source": [
        "import random as r"
      ]
    },
    {
      "cell_type": "markdown",
      "source": [
        "Parameter Settings"
      ],
      "metadata": {
        "id": "6fp3OiyoltGF"
      }
    },
    {
      "cell_type": "code",
      "source": [
        "ProductList = {'p1':10, 'p2':15, 'p3':20, 'p4':25, 'p5':30, 'p6':35, 'p7':50,\n",
        "               'p8':40, 'p9':55, 'p10':60, 'p11':65, 'p12':75, 'p13':70,\n",
        "               'p14':45}\n",
        "LB          = 290\n",
        "UB          = 310\n",
        "ResultList  = set()   # Stores the Resulting List i.e. list of sets whose sum is between 290 and 310.\n",
        "Iterations  = 1500 "
      ],
      "metadata": {
        "id": "AxSeKurolKJP"
      },
      "execution_count": 2,
      "outputs": []
    },
    {
      "cell_type": "markdown",
      "source": [
        "Program to find the random set and then calculate its sum to check if it is in range"
      ],
      "metadata": {
        "id": "5CIKr7JtmB3s"
      }
    },
    {
      "cell_type": "code",
      "source": [
        "for i in range(Iterations):\n",
        "  SetSize=r.randint(2,len(ProductList)-1)\n",
        "  RandomCombo=r.sample(list(ProductList.keys()),SetSize)\n",
        "  ComboSum=sum([ProductList[p] for p in RandomCombo])\n",
        "  if ComboSum>=LB and ComboSum<=UB:\n",
        "    ResultList.add(tuple(RandomCombo))"
      ],
      "metadata": {
        "id": "U6FFIT-_lMj2"
      },
      "execution_count": 3,
      "outputs": []
    },
    {
      "cell_type": "markdown",
      "source": [
        "Printing the Combos created"
      ],
      "metadata": {
        "id": "N7ed01HrnK5h"
      }
    },
    {
      "cell_type": "code",
      "source": [
        "for i in ResultList:\n",
        "  print(i)\n",
        "print(f\"The total number of combos created through this program are: {len(ResultList)}\")"
      ],
      "metadata": {
        "colab": {
          "base_uri": "https://localhost:8080/"
        },
        "id": "4rGCelZnnPgV",
        "outputId": "4c4f89e2-deb7-46ab-db97-e3fac0f4c322"
      },
      "execution_count": 4,
      "outputs": [
        {
          "output_type": "stream",
          "name": "stdout",
          "text": [
            "('p10', 'p9', 'p12', 'p13', 'p7')\n",
            "('p14', 'p4', 'p11', 'p1', 'p9', 'p7', 'p8')\n",
            "('p5', 'p11', 'p1', 'p7', 'p8', 'p12', 'p6')\n",
            "('p6', 'p12', 'p10', 'p4', 'p7', 'p14')\n",
            "('p14', 'p8', 'p1', 'p13', 'p3', 'p10', 'p7')\n",
            "('p13', 'p9', 'p3', 'p8', 'p5', 'p11', 'p1')\n",
            "('p7', 'p4', 'p6', 'p11', 'p1', 'p14', 'p12')\n",
            "('p14', 'p13', 'p5', 'p12', 'p4', 'p3', 'p8')\n",
            "('p1', 'p9', 'p10', 'p13', 'p2', 'p14', 'p5', 'p3')\n",
            "('p7', 'p2', 'p13', 'p12', 'p8', 'p1', 'p6')\n",
            "('p4', 'p8', 'p9', 'p5', 'p10', 'p7', 'p6')\n",
            "('p3', 'p6', 'p7', 'p5', 'p9', 'p1', 'p8', 'p10')\n",
            "('p3', 'p6', 'p13', 'p12', 'p11', 'p14')\n",
            "('p3', 'p12', 'p4', 'p8', 'p13', 'p1', 'p7')\n",
            "('p14', 'p13', 'p8', 'p10', 'p11', 'p5')\n",
            "('p12', 'p14', 'p7', 'p8', 'p11', 'p3')\n",
            "('p6', 'p3', 'p4', 'p1', 'p11', 'p9', 'p2', 'p5', 'p7')\n",
            "('p11', 'p5', 'p2', 'p10', 'p4', 'p7', 'p9')\n",
            "('p7', 'p11', 'p2', 'p5', 'p13', 'p6', 'p8')\n",
            "('p5', 'p6', 'p2', 'p12', 'p1', 'p3', 'p7', 'p8', 'p4')\n",
            "('p12', 'p2', 'p11', 'p7', 'p10', 'p3', 'p1')\n",
            "('p8', 'p3', 'p11', 'p13', 'p10', 'p6')\n",
            "('p5', 'p13', 'p8', 'p9', 'p12', 'p4')\n",
            "('p3', 'p8', 'p5', 'p7', 'p14', 'p4', 'p10', 'p6')\n",
            "('p14', 'p5', 'p4', 'p10', 'p6', 'p13', 'p8')\n",
            "('p13', 'p5', 'p14', 'p9', 'p8', 'p10')\n",
            "('p8', 'p13', 'p1', 'p4', 'p10', 'p3', 'p2', 'p11')\n",
            "('p13', 'p14', 'p6', 'p4', 'p7', 'p5', 'p9')\n",
            "('p5', 'p13', 'p12', 'p10', 'p9')\n",
            "('p9', 'p1', 'p11', 'p14', 'p12', 'p4', 'p5')\n",
            "('p10', 'p6', 'p1', 'p8', 'p14', 'p12', 'p4')\n",
            "('p14', 'p3', 'p5', 'p6', 'p13', 'p7', 'p8')\n",
            "('p10', 'p6', 'p2', 'p3', 'p9', 'p5', 'p14', 'p8')\n",
            "('p6', 'p1', 'p14', 'p13', 'p8', 'p4', 'p2', 'p11')\n",
            "('p13', 'p6', 'p2', 'p7', 'p1', 'p12', 'p9')\n",
            "('p7', 'p6', 'p5', 'p12', 'p14', 'p11', 'p1')\n",
            "('p5', 'p11', 'p12', 'p10', 'p1', 'p9')\n",
            "('p13', 'p1', 'p2', 'p6', 'p8', 'p7', 'p10', 'p3')\n",
            "('p2', 'p3', 'p11', 'p1', 'p14', 'p12', 'p8', 'p5')\n",
            "('p3', 'p6', 'p8', 'p10', 'p11', 'p12', 'p2')\n",
            "('p3', 'p10', 'p13', 'p9', 'p11', 'p6')\n",
            "('p12', 'p11', 'p6', 'p5', 'p8', 'p10')\n",
            "('p1', 'p14', 'p11', 'p13', 'p4', 'p9', 'p6')\n",
            "('p11', 'p14', 'p1', 'p10', 'p4', 'p6', 'p5', 'p3')\n",
            "('p14', 'p10', 'p2', 'p7', 'p11', 'p13')\n",
            "('p5', 'p14', 'p1', 'p3', 'p11', 'p4', 'p8', 'p10')\n",
            "('p10', 'p6', 'p2', 'p11', 'p1', 'p8', 'p12')\n",
            "('p8', 'p12', 'p11', 'p4', 'p2', 'p6', 'p7')\n",
            "('p1', 'p8', 'p5', 'p14', 'p12', 'p4', 'p13')\n",
            "('p11', 'p8', 'p10', 'p7', 'p9', 'p4')\n",
            "('p6', 'p13', 'p10', 'p11', 'p12')\n",
            "('p8', 'p6', 'p4', 'p9', 'p11', 'p1', 'p10')\n",
            "('p10', 'p7', 'p3', 'p8', 'p1', 'p14', 'p11')\n",
            "('p11', 'p13', 'p5', 'p3', 'p7', 'p10')\n",
            "('p2', 'p11', 'p1', 'p6', 'p14', 'p9', 'p8', 'p3', 'p4')\n",
            "('p4', 'p3', 'p7', 'p8', 'p11', 'p5', 'p6', 'p14')\n",
            "('p5', 'p7', 'p10', 'p6', 'p11', 'p13')\n",
            "('p10', 'p3', 'p4', 'p8', 'p11', 'p13', 'p5')\n",
            "('p10', 'p7', 'p5', 'p3', 'p12', 'p9')\n",
            "('p7', 'p12', 'p1', 'p2', 'p5', 'p6', 'p14', 'p8')\n",
            "('p5', 'p14', 'p7', 'p8', 'p13', 'p9', 'p1')\n",
            "('p7', 'p1', 'p5', 'p9', 'p6', 'p3', 'p4', 'p13')\n",
            "('p8', 'p4', 'p2', 'p13', 'p3', 'p14', 'p7', 'p6')\n",
            "('p7', 'p12', 'p2', 'p3', 'p8', 'p5', 'p13')\n",
            "('p2', 'p6', 'p12', 'p4', 'p14', 'p10', 'p9')\n",
            "('p6', 'p11', 'p14', 'p13', 'p4', 'p8', 'p2')\n",
            "('p10', 'p12', 'p4', 'p13', 'p6', 'p2', 'p3')\n",
            "('p6', 'p11', 'p1', 'p13', 'p10', 'p7')\n",
            "('p6', 'p2', 'p3', 'p1', 'p5', 'p10', 'p11', 'p9')\n",
            "('p10', 'p6', 'p14', 'p3', 'p5', 'p9', 'p7', 'p1')\n",
            "('p14', 'p10', 'p4', 'p8', 'p9', 'p3', 'p7', 'p1')\n",
            "('p12', 'p13', 'p6', 'p10', 'p2', 'p8')\n",
            "('p12', 'p5', 'p1', 'p13', 'p2', 'p7', 'p14')\n",
            "('p13', 'p4', 'p7', 'p2', 'p1', 'p10', 'p11')\n",
            "('p4', 'p7', 'p6', 'p14', 'p11', 'p10', 'p5')\n",
            "('p12', 'p2', 'p1', 'p7', 'p4', 'p14', 'p13')\n",
            "('p12', 'p3', 'p8', 'p13', 'p6', 'p11')\n",
            "('p6', 'p3', 'p11', 'p7', 'p8', 'p1', 'p12')\n",
            "('p10', 'p11', 'p2', 'p14', 'p9', 'p7')\n",
            "('p12', 'p9', 'p7', 'p13', 'p8')\n",
            "('p11', 'p6', 'p10', 'p13', 'p2', 'p8', 'p3')\n",
            "('p2', 'p11', 'p6', 'p3', 'p5', 'p1', 'p12', 'p9')\n",
            "The total number of combos created through this program are: 82\n"
          ]
        }
      ]
    }
  ]
}